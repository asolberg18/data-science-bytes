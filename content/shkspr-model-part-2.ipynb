{
 "metadata": {
  "name": "",
  "signature": "sha256:6f5c6677d7e129168938bbc18a0bc6fd2bb1bad218196c58afc74bf0170a6ea2"
 },
 "nbformat": 3,
 "nbformat_minor": 0,
 "worksheets": [
  {
   "cells": [
    {
     "cell_type": "markdown",
     "metadata": {},
     "source": [
      "In [Part I]() I made a topic model of the speach of Shakespeare characters. Here in Part II I'll analyze the results of the model."
     ]
    },
    {
     "cell_type": "code",
     "collapsed": false,
     "input": [
      "%matplotlib inline\n",
      "import pandas as pd\n",
      "import matplotlib.pyplot as plt\n",
      "\n",
      "from gensim import corpora, models, similarities\n",
      "from matplotlib import text"
     ],
     "language": "python",
     "metadata": {},
     "outputs": [],
     "prompt_number": 2
    },
    {
     "cell_type": "markdown",
     "metadata": {},
     "source": [
      "Load data from Part I:"
     ]
    },
    {
     "cell_type": "code",
     "collapsed": false,
     "input": [
      "word_data_df = pd.read_csv('data/word_data_df.csv', index_col=0)\n",
      "corpus = corpora.mmcorpus.MmCorpus('data/shkspr.mm')\n",
      "tfidf = models.TfidfModel(corpus)\n",
      "tfidf_corpus = tfidf[corpus]\n",
      "lsi = models.lsimodel.LsiModel.load('data/shkspr.lsi')"
     ],
     "language": "python",
     "metadata": {},
     "outputs": [],
     "prompt_number": 9
    },
    {
     "cell_type": "markdown",
     "metadata": {},
     "source": [
      "Construct similarity metric between each character, using a cosine similarity metric."
     ]
    },
    {
     "cell_type": "code",
     "collapsed": false,
     "input": [
      "matsim = similarities.MatrixSimilarity(lsi[tfidf[corpus]], num_best=6)"
     ],
     "language": "python",
     "metadata": {},
     "outputs": [],
     "prompt_number": 13
    },
    {
     "cell_type": "markdown",
     "metadata": {},
     "source": [
      "For each of the ten characters with the most lines, print the most similiar characters, along with their similarity scores."
     ]
    },
    {
     "cell_type": "code",
     "collapsed": false,
     "input": [
      "for sims in list(matsim)[:10]:\n",
      "    print '|'.join(word_data_df.ix[sims[0][0], ['persona', 'play']].values)\n",
      "    for other_persona_index, score in sims[1:]:\n",
      "        print '\\t', '|'.join(word_data_df.ix[other_persona_index, ['persona', 'play']].values).ljust(30), score"
     ],
     "language": "python",
     "metadata": {},
     "outputs": [
      {
       "output_type": "stream",
       "stream": "stdout",
       "text": [
        "HAMLET|hamlet\n",
        "\tKING CLAUDIUS|hamlet           0.384030073881\n",
        "\tLORD POLONIUS|hamlet           0.314071267843\n",
        "\tMACBETH|macbeth                0.30823725462\n",
        "\tOTHELLO|othello                0.296954810619\n",
        "\tIAGO|othello                   0.290680706501\n",
        "IAGO|othello\n",
        "\tBIANCA|othello                 0.501925945282\n",
        "\tOTHELLO|othello                0.464588195086\n",
        "\tDESDEMONA|othello              0.458116292953\n",
        "\tLODOVICO|othello               0.425002157688\n",
        "\tEMILIA|othello                 0.424335867167\n",
        "OTHELLO|othello\n",
        "\tIAGO|othello                   0.464588195086\n",
        "\tCASSIO|othello                 0.396696776152\n",
        "\tEMILIA|othello                 0.369400084019\n",
        "\tDESDEMONA|othello              0.338780254126\n",
        "\tHAMLET|hamlet                  0.296954810619\n",
        "MARK ANTONY|a_and_c\n",
        "\tCLEOPATRA|a_and_c              0.367321223021\n",
        "\tDOMITIUS ENOBARBUS|a_and_c     0.340076804161\n",
        "\tOCTAVIUS CAESAR|a_and_c        0.315773129463\n",
        "\tBRUTUS|j_caesar                0.273373156786\n",
        "\tANTONY|j_caesar                0.251506775618\n",
        "MACBETH|macbeth\n",
        "\tLADY MACBETH|macbeth           0.331185400486\n",
        "\tHAMLET|hamlet                  0.30823725462\n",
        "\tLENNOX|macbeth                 0.272017747164\n",
        "\tDUNCAN|macbeth                 0.270821660757\n",
        "\tMACDUFF|macbeth                0.255170077085\n",
        "BRUTUS|j_caesar\n",
        "\tCASSIUS|j_caesar               0.530463993549\n",
        "\tANTONY|j_caesar                0.497851133347\n",
        "\tTITINIUS|j_caesar              0.40230512619\n",
        "\tServant|j_caesar               0.362869054079\n",
        "\tCAESAR|j_caesar                0.349840819836\n",
        "ROMEO|r_and_j\n",
        "\tJULIET|r_and_j                 0.419911801815\n",
        "\tFRIAR LAURENCE|r_and_j         0.410379707813\n",
        "\tLADY CAPULET|r_and_j           0.322136878967\n",
        "\tBENVOLIO|r_and_j               0.291740387678\n",
        "\tNurse|r_and_j                  0.277080386877\n",
        "CLEOPATRA|a_and_c\n",
        "\tDOMITIUS ENOBARBUS|a_and_c     0.439094603062\n",
        "\tOCTAVIUS CAESAR|a_and_c       "
       ]
      },
      {
       "output_type": "stream",
       "stream": "stdout",
       "text": [
        " 0.37467315793\n",
        "\tMARK ANTONY|a_and_c            0.367321223021\n",
        "\tBRUTUS|j_caesar                0.316580206156\n",
        "\tHAMLET|hamlet                  0.29018625617\n",
        "JULIET|r_and_j\n",
        "\tFRIAR LAURENCE|r_and_j         0.485900253057\n",
        "\tBENVOLIO|r_and_j               0.441425442696\n",
        "\tNurse|r_and_j                  0.441191494465\n",
        "\tROMEO|r_and_j                  0.419911801815\n",
        "\tLADY CAPULET|r_and_j           0.381439089775\n",
        "PORTIA|merchant\n",
        "\tBASSANIO|merchant              0.346335113049\n",
        "\tGRATIANO|merchant              0.324560642242\n",
        "\tANTONIO|merchant               0.30899772048\n",
        "\tSHYLOCK|merchant               0.261640936136\n",
        "\tHAMLET|hamlet                  0.250277042389\n"
       ]
      }
     ],
     "prompt_number": 11
    }
   ],
   "metadata": {}
  }
 ]
}