{
 "metadata": {
  "name": "",
  "signature": "sha256:ef8299d33ce1d80fa4c73461f915261c8493768315fd90d528c5c155e9f40e63"
 },
 "nbformat": 3,
 "nbformat_minor": 0,
 "worksheets": [
  {
   "cells": [
    {
     "cell_type": "markdown",
     "metadata": {},
     "source": [
      "File compression tools like `gzip` and `bzip2` can compress text files into a fraction of their size, often to as little as 20% of the original. Data files often come compressed to save storage space and network bandwidth. A typical workflow is to uncompress the file before analysis, but it can be more convenient to leave the file in its compressed form, especially if the uncompressed file would take up a significant amount of space. In this post I'll show how to work directly with compressed files in python."
     ]
    },
    {
     "cell_type": "markdown",
     "metadata": {},
     "source": [
      "[IPython notebook for this post](https://github.com/frankcleary/data-science-bytes/blob/master/content/read-zipped-files.ipynb)"
     ]
    },
    {
     "cell_type": "heading",
     "level": 1,
     "metadata": {},
     "source": [
      "Compression Ratios"
     ]
    },
    {
     "cell_type": "markdown",
     "metadata": {},
     "source": [
      "Lets look at [a small csv file](/data/nationalparks.csv) containing data on National Parks (originally from [wikipedia](http://en.wikipedia.org/wiki/List_of_areas_in_the_United_States_National_Park_System#National_parks)). The uncompressed file is 3.1 kb."
     ]
    },
    {
     "cell_type": "code",
     "collapsed": false,
     "input": [
      "!head -n4 data/nationalparks.csv"
     ],
     "language": "python",
     "metadata": {},
     "outputs": [
      {
       "output_type": "stream",
       "stream": "stdout",
       "text": [
        "Name,Location,Year Established,Area\n",
        "Acadia National Park,Maine,1919,48876.58\n",
        "National Park of American Samoa,American Samoa,1988,8256.67\n",
        "Arches National Park,Utah,1971,76678.98\n"
       ]
      }
     ],
     "prompt_number": 1
    },
    {
     "cell_type": "code",
     "collapsed": false,
     "input": [
      "!ls -lh data/nationalparks.csv"
     ],
     "language": "python",
     "metadata": {},
     "outputs": [
      {
       "output_type": "stream",
       "stream": "stdout",
       "text": [
        "-rw-r--r--    1 Frank    Administ     3.1k Mar  7 21:56 data/nationalparks.csv\n"
       ]
      }
     ],
     "prompt_number": 2
    },
    {
     "cell_type": "markdown",
     "metadata": {},
     "source": [
      "These commands zip up the files to see the difference in size. The `-k` option keeps the original file for `bzip2`, only recent versions of `gzip` support this so the `gzip` command is written a bit differently."
     ]
    },
    {
     "cell_type": "code",
     "collapsed": false,
     "input": [
      "%%bash\n",
      "gzip < data/nationalparks.csv > data/nationalparks.csv.gz\n",
      "bzip2 -k data/nationalparks.csv\n",
      "ls -lh data/nationalparks*"
     ],
     "language": "python",
     "metadata": {},
     "outputs": [
      {
       "output_type": "stream",
       "stream": "stdout",
       "text": [
        "-rw-r--r--    1 Frank    Administ     3.1k Mar  7 21:56 data/nationalparks.csv\n",
        "-rw-r--r--    1 Frank    Administ     1.2k Mar  7 21:56 data/nationalparks.csv.bz2\n",
        "-rw-r--r--    1 Frank    Administ     1.3k Mar 14 18:03 data/nationalparks.csv.gz\n"
       ]
      }
     ],
     "prompt_number": 3
    },
    {
     "cell_type": "markdown",
     "metadata": {},
     "source": [
      "In general `bzip2` compresses slightly more than `gzip`, but is significantly slower. For general use I find `gzip` to be preferable. Now on to python! The function below prints the total area of all the National Parks using the uncompressed file."
     ]
    },
    {
     "cell_type": "code",
     "collapsed": false,
     "input": [
      "import csv\n",
      "\n",
      "def sum_area(f):\n",
      "    reader = csv.reader(f.readlines()[1:])  # exclude header line\n",
      "    total_area = sum([float(row[3]) for row in reader])\n",
      "    return total_area\n",
      "\n",
      "def total_area_uncompressed(filename):\n",
      "    with open(filename) as f:\n",
      "        return sum_area(f)\n",
      "\n",
      "total = total_area_uncompressed('data/nationalparks.csv')\n",
      "print 'Total National Park Area = {:,} acres'.format(total)"
     ],
     "language": "python",
     "metadata": {},
     "outputs": [
      {
       "output_type": "stream",
       "stream": "stdout",
       "text": [
        "Total National Park Area = 52,096,299.61 acres\n"
       ]
      }
     ],
     "prompt_number": 4
    },
    {
     "cell_type": "markdown",
     "metadata": {},
     "source": [
      "To accomplish the same thing with compressed files, we can use the `gzip` and `bz2` libraries:"
     ]
    },
    {
     "cell_type": "code",
     "collapsed": false,
     "input": [
      "import bz2\n",
      "import gzip\n",
      "\n",
      "def total_area_gzip(filename):\n",
      "    with gzip.GzipFile(filename) as f:\n",
      "        return sum_area(f)\n",
      "\n",
      "def total_area_bz2(filename):\n",
      "    with bz2.BZ2File(filename) as f:\n",
      "        return sum_area(f)\n",
      "\n",
      "print 'Total National Park Area = {:,} acres'.format(\n",
      "    total_area_gzip('data/nationalparks.csv.gz')\n",
      ")\n",
      "print 'Total National Park Area = {:,} acres'.format(\n",
      "    total_area_bz2('data/nationalparks.csv.bz2')\n",
      ")"
     ],
     "language": "python",
     "metadata": {},
     "outputs": [
      {
       "output_type": "stream",
       "stream": "stdout",
       "text": [
        "Total National Park Area = 52,096,299.61 acres\n",
        "Total National Park Area = 52,096,299.61 acres\n"
       ]
      }
     ],
     "prompt_number": 5
    },
    {
     "cell_type": "markdown",
     "metadata": {},
     "source": [
      "Now our code operates on the compressed files directly. The downside is that it takes longer for the work on compressed files (for larger files this will be more significant). Keep in mind that the time to decompress the file must be taken at some point (either before or during analysis) so as long as you're not running the analysis many times the cost is minimal."
     ]
    },
    {
     "cell_type": "code",
     "collapsed": false,
     "input": [
      "%%timeit\n",
      "total_area_uncompressed('data/nationalparks.csv')"
     ],
     "language": "python",
     "metadata": {},
     "outputs": [
      {
       "output_type": "stream",
       "stream": "stdout",
       "text": [
        "1000 loops, best of 3: 290 \u00b5s per loop\n"
       ]
      }
     ],
     "prompt_number": 6
    },
    {
     "cell_type": "code",
     "collapsed": false,
     "input": [
      "%%timeit\n",
      "total_area_gzip('data/nationalparks.csv.gz')"
     ],
     "language": "python",
     "metadata": {},
     "outputs": [
      {
       "output_type": "stream",
       "stream": "stdout",
       "text": [
        "1000 loops, best of 3: 489 \u00b5s per loop\n"
       ]
      }
     ],
     "prompt_number": 7
    },
    {
     "cell_type": "code",
     "collapsed": false,
     "input": [
      "%%timeit\n",
      "total_area_bz2('data/nationalparks.csv.bz2')"
     ],
     "language": "python",
     "metadata": {},
     "outputs": [
      {
       "output_type": "stream",
       "stream": "stdout",
       "text": [
        "1000 loops, best of 3: 352 \u00b5s per loop\n"
       ]
      }
     ],
     "prompt_number": 8
    },
    {
     "cell_type": "markdown",
     "metadata": {},
     "source": [
      "We could also write a function that deals with the file appropriately based on its extension, saving us from having three separate functions."
     ]
    },
    {
     "cell_type": "code",
     "collapsed": false,
     "input": [
      "def opener(filename):\n",
      "    if filename.endswith('.gz'):\n",
      "        return gzip.GzipFile(filename)\n",
      "    elif filename.endswith('.bz2'):\n",
      "        return bz2.BZ2File(filename)\n",
      "    else:\n",
      "        return open(filename)\n",
      "\n",
      "for extension in ['', '.gz', '.bz2']:\n",
      "    filename = 'data/nationalparks.csv' + extension\n",
      "    print 'Reading {}'.format(filename)\n",
      "    print 'Total National Park Area = {:,} acres'.format(sum_area(opener(filename)))"
     ],
     "language": "python",
     "metadata": {},
     "outputs": [
      {
       "output_type": "stream",
       "stream": "stdout",
       "text": [
        "Reading data/nationalparks.csv\n",
        "Total National Park Area = 52,096,299.61 acres\n",
        "Reading data/nationalparks.csv.gz\n",
        "Total National Park Area = 52,096,299.61 acres\n",
        "Reading data/nationalparks.csv.bz2\n",
        "Total National Park Area = 52,096,299.61 acres\n"
       ]
      }
     ],
     "prompt_number": 9
    },
    {
     "cell_type": "markdown",
     "metadata": {},
     "source": [
      "Of course using library functions is preferred when possible. Unsurprisingly [`pandas`](http://pandas.pydata.org/) supports reading compressed files with the `compression=` parameter of [`read_csv()`](http://pandas.pydata.org/pandas-docs/dev/generated/pandas.io.parsers.read_csv.html)."
     ]
    },
    {
     "cell_type": "code",
     "collapsed": false,
     "input": [
      "import pandas as pd\n",
      "\n",
      "npdf = pd.read_csv('data/nationalparks.csv.bz2', compression='bz2')\n",
      "npdf.head()"
     ],
     "language": "python",
     "metadata": {},
     "outputs": [
      {
       "html": [
        "<div style=\"max-height:1000px;max-width:1500px;overflow:auto;\">\n",
        "<table border=\"1\" class=\"dataframe\">\n",
        "  <thead>\n",
        "    <tr style=\"text-align: right;\">\n",
        "      <th></th>\n",
        "      <th>Name</th>\n",
        "      <th>Location</th>\n",
        "      <th>Year Established</th>\n",
        "      <th>Area</th>\n",
        "    </tr>\n",
        "  </thead>\n",
        "  <tbody>\n",
        "    <tr>\n",
        "      <th>0</th>\n",
        "      <td>            Acadia National Park</td>\n",
        "      <td>          Maine</td>\n",
        "      <td> 1919</td>\n",
        "      <td>  48876.58</td>\n",
        "    </tr>\n",
        "    <tr>\n",
        "      <th>1</th>\n",
        "      <td> National Park of American Samoa</td>\n",
        "      <td> American Samoa</td>\n",
        "      <td> 1988</td>\n",
        "      <td>   8256.67</td>\n",
        "    </tr>\n",
        "    <tr>\n",
        "      <th>2</th>\n",
        "      <td>            Arches National Park</td>\n",
        "      <td>           Utah</td>\n",
        "      <td> 1971</td>\n",
        "      <td>  76678.98</td>\n",
        "    </tr>\n",
        "    <tr>\n",
        "      <th>3</th>\n",
        "      <td>          Badlands National Park</td>\n",
        "      <td>   South Dakota</td>\n",
        "      <td> 1978</td>\n",
        "      <td> 242755.94</td>\n",
        "    </tr>\n",
        "    <tr>\n",
        "      <th>4</th>\n",
        "      <td>          Big Bend National Park</td>\n",
        "      <td>          Texas</td>\n",
        "      <td> 1944</td>\n",
        "      <td> 801163.21</td>\n",
        "    </tr>\n",
        "  </tbody>\n",
        "</table>\n",
        "</div>"
       ],
       "metadata": {},
       "output_type": "pyout",
       "prompt_number": 10,
       "text": [
        "                              Name        Location  Year Established  \\\n",
        "0             Acadia National Park           Maine              1919   \n",
        "1  National Park of American Samoa  American Samoa              1988   \n",
        "2             Arches National Park            Utah              1971   \n",
        "3           Badlands National Park    South Dakota              1978   \n",
        "4           Big Bend National Park           Texas              1944   \n",
        "\n",
        "        Area  \n",
        "0   48876.58  \n",
        "1    8256.67  \n",
        "2   76678.98  \n",
        "3  242755.94  \n",
        "4  801163.21  "
       ]
      }
     ],
     "prompt_number": 10
    },
    {
     "cell_type": "code",
     "collapsed": false,
     "input": [
      "print 'Total National Park Area = {:,} acres'.format(npdf['Area'].sum())"
     ],
     "language": "python",
     "metadata": {},
     "outputs": [
      {
       "output_type": "stream",
       "stream": "stdout",
       "text": [
        "Total National Park Area = 52,096,299.61 acres\n"
       ]
      }
     ],
     "prompt_number": 11
    }
   ],
   "metadata": {}
  }
 ]
}
